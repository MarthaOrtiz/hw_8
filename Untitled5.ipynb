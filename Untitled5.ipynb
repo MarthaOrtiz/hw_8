{
 "metadata": {
  "name": ""
 },
 "nbformat": 3,
 "nbformat_minor": 0,
 "worksheets": [
  {
   "cells": [
    {
     "cell_type": "code",
     "collapsed": false,
     "input": [
      "%pylab inline"
     ],
     "language": "python",
     "metadata": {},
     "outputs": [
      {
       "output_type": "stream",
       "stream": "stdout",
       "text": [
        "Populating the interactive namespace from numpy and matplotlib\n"
       ]
      }
     ],
     "prompt_number": 1
    },
    {
     "cell_type": "code",
     "collapsed": false,
     "input": [
      "datos=loadtxt('data_hw_8.dat')"
     ],
     "language": "python",
     "metadata": {},
     "outputs": [],
     "prompt_number": 10
    },
    {
     "cell_type": "code",
     "collapsed": false,
     "input": [
      "print datos[:,0]\n",
      "print datos"
     ],
     "language": "python",
     "metadata": {},
     "outputs": [
      {
       "output_type": "stream",
       "stream": "stdout",
       "text": [
        "[  2.    2.5   3.5   5.    6.    7.    8.   10.   11.   12.   12.5  15.\n",
        "  16.   17.5  20.   21.   22.5  25.   30. ]\n",
        "[[  2.   12. ]\n",
        " [  2.5  21. ]\n",
        " [  3.5  26. ]\n",
        " [  5.   34. ]\n",
        " [  6.   33. ]\n",
        " [  7.   30. ]\n",
        " [  8.   28. ]\n",
        " [ 10.   26. ]\n",
        " [ 11.   25. ]\n",
        " [ 12.   23. ]\n",
        " [ 12.5  22. ]\n",
        " [ 15.   21. ]\n",
        " [ 16.   20.5]\n",
        " [ 17.5  20.5]\n",
        " [ 20.   20. ]\n",
        " [ 21.   19. ]\n",
        " [ 22.5  18.5]\n",
        " [ 25.   18. ]\n",
        " [ 30.   17.7]]\n"
       ]
      }
     ],
     "prompt_number": 12
    },
    {
     "cell_type": "code",
     "collapsed": false,
     "input": [
      "plot (datos[:,0],datos[:,1],'ko')"
     ],
     "language": "python",
     "metadata": {},
     "outputs": [
      {
       "metadata": {},
       "output_type": "pyout",
       "prompt_number": 14,
       "text": [
        "[<matplotlib.lines.Line2D at 0x4524c10>]"
       ]
      },
      {
       "metadata": {},
       "output_type": "display_data",
       "png": "[encoded data removed]",
       "text": [
        "<matplotlib.figure.Figure at 0x43fec90>"
       ]
      }
     ],
     "prompt_number": 14
    },
    {
     "cell_type": "code",
     "collapsed": false,
     "input": [
      "alpha=empty((0))\n",
      "betha=empty((0))\n",
      "Km1=empty((0))\n",
      "Km2=empty((0))\n",
      "So=empty((0))"
     ],
     "language": "python",
     "metadata": {},
     "outputs": [],
     "prompt_number": 16
    },
    {
     "cell_type": "code",
     "collapsed": false,
     "input": [
      "#inicialization\n",
      "alpha_0=random.random()\n",
      "betha_0=random.random()\n",
      "Km1_0=random.random()\n",
      "Km2_0=random.random()\n",
      "So_0=random.random()"
     ],
     "language": "python",
     "metadata": {},
     "outputs": [],
     "prompt_number": 19
    },
    {
     "cell_type": "code",
     "collapsed": false,
     "input": [
      "alpha=append(alpha,alpha_0)\n",
      "betha=append(betha,betha_0)\n",
      "Km1=append(Km1,Km1_0)\n",
      "Km2=append(Km2,Km2_0)\n",
      "So=append(So,So_0)"
     ],
     "language": "python",
     "metadata": {},
     "outputs": [],
     "prompt_number": 21
    },
    {
     "cell_type": "code",
     "collapsed": false,
     "input": [
      "#Solving the differential eq.\n",
      "def P_prima(alpha, betha, Km1, Km2, So,y):\n",
      "    P_prima= ((alpha * (So - P)) / (Km1 + So - P)) - ((betha * P) / (Km2 + P))\n",
      "    return P_prima"
     ],
     "language": "python",
     "metadata": {},
     "outputs": [],
     "prompt_number": 22
    },
    {
     "cell_type": "code",
     "collapsed": false,
     "input": [],
     "language": "python",
     "metadata": {},
     "outputs": []
    }
   ],
   "metadata": {}
  }
 ]
}