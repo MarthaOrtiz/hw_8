{
 "metadata": {
  "name": ""
 },
 "nbformat": 3,
 "nbformat_minor": 0,
 "worksheets": [
  {
   "cells": [
    {
     "cell_type": "code",
     "collapsed": false,
     "input": [
      "%pylab inline"
     ],
     "language": "python",
     "metadata": {},
     "outputs": [
      {
       "output_type": "stream",
       "stream": "stdout",
       "text": [
        "Populating the interactive namespace from numpy and matplotlib\n"
       ]
      }
     ],
     "prompt_number": 24
    },
    {
     "cell_type": "code",
     "collapsed": false,
     "input": [
      "datos=loadtxt(\"movimiento.dat\")"
     ],
     "language": "python",
     "metadata": {},
     "outputs": [],
     "prompt_number": 25
    },
    {
     "cell_type": "code",
     "collapsed": false,
     "input": [
      "x_obs=datos[:,0]\n",
      "y_obs=datos[:,1]\n",
      "plot (datos[:,0],datos[:,1],'ko')#observados"
     ],
     "language": "python",
     "metadata": {},
     "outputs": [
      {
       "metadata": {},
       "output_type": "pyout",
       "prompt_number": 52,
       "text": [
        "[<matplotlib.lines.Line2D at 0x3992450>]"
       ]
      },
      {
       "metadata": {},
       "output_type": "display_data",
       "png": "[encoded data removed]",
       "text": [
        "<matplotlib.figure.Figure at 0x379f750>"
       ]
      }
     ],
     "prompt_number": 52
    },
    {
     "cell_type": "code",
     "collapsed": false,
     "input": [
      "def chi(y_mod,y_obs):\n",
      "    chi=sum((y_obs - y_mod)**2)\n",
      "    return chi"
     ],
     "language": "python",
     "metadata": {},
     "outputs": [],
     "prompt_number": 53
    },
    {
     "cell_type": "code",
     "collapsed": false,
     "input": [
      "def modelo(x_obs,a,b,c): # y = ax\u00b2 + bx + c\n",
      "    x_obs2 = x_obs**2\n",
      "    modelo = a*x_obs2 + b*x_obs + c\n",
      "    return modelo"
     ],
     "language": "python",
     "metadata": {},
     "outputs": [],
     "prompt_number": 101
    },
    {
     "cell_type": "code",
     "collapsed": false,
     "input": [
      "a=empty((0))\n",
      "b=empty((0))\n",
      "c=empty((0))"
     ],
     "language": "python",
     "metadata": {},
     "outputs": [],
     "prompt_number": 102
    },
    {
     "cell_type": "code",
     "collapsed": false,
     "input": [
      "a=append(a,random.random())\n",
      "b=append(b,random.random())\n",
      "c=append(c,random.random())"
     ],
     "language": "python",
     "metadata": {},
     "outputs": [],
     "prompt_number": 103
    },
    {
     "cell_type": "code",
     "collapsed": false,
     "input": [
      "print a,b,c"
     ],
     "language": "python",
     "metadata": {},
     "outputs": [
      {
       "output_type": "stream",
       "stream": "stdout",
       "text": [
        "[ 0.23106148] [ 0.39430696] [ 0.35409505]\n"
       ]
      }
     ],
     "prompt_number": 104
    },
    {
     "cell_type": "code",
     "collapsed": false,
     "input": [
      "n_iteraciones=10000"
     ],
     "language": "python",
     "metadata": {},
     "outputs": [],
     "prompt_number": 105
    },
    {
     "cell_type": "code",
     "collapsed": false,
     "input": [
      "a_aleat=np.random.normal(a[0],0.1)\n",
      "print a_aleat"
     ],
     "language": "python",
     "metadata": {},
     "outputs": [
      {
       "output_type": "stream",
       "stream": "stdout",
       "text": [
        "0.3647160922\n"
       ]
      }
     ],
     "prompt_number": 106
    },
    {
     "cell_type": "code",
     "collapsed": false,
     "input": [
      "for i in range(n_iteraciones):\n",
      "    a_aleat=np.random.normal(a[i],0.1)\n",
      "    b_aleat=np.random.normal(b[i],0.1)\n",
      "    c_aleat=np.random.normal(c[i],0.1)\n",
      "    \n",
      "    y_base= modelo(x_obs,a[i],b[i],c[i])\n",
      "    y_aleat=modelo(x_obs,a_aleat,b_aleat,c_aleat)\n",
      "    \n",
      "    indice=chi(y_base,y_obs)/chi(y_aleat,y_obs)\n",
      "    \n",
      "    if(indice >= 1.0):\n",
      "        a=append(a,a_aleat)\n",
      "        b=append(b,b_aleat)\n",
      "        c=append(c,c_aleat)\n",
      "    else:\n",
      "        beta = random.random()\n",
      "        if(beta<=indice):\n",
      "            a = append(a,a_aleat)\n",
      "            b = append(b,b_aleat)\n",
      "            c = append(c,c_aleat)\n",
      "        else:\n",
      "            a = append(a,a[i])\n",
      "            b = append(b,b[i])\n",
      "            c = append(c,c[i])\n",
      "       "
     ],
     "language": "python",
     "metadata": {},
     "outputs": [],
     "prompt_number": 117
    },
    {
     "cell_type": "code",
     "collapsed": false,
     "input": [
      "average_a = average(a)\n",
      "average_b = average(b)\n",
      "average_c = average(c)\n",
      "\n",
      "best_y = modelo(x_obs, average_a, average_b, average_c)\n",
      "scatter(x_obs,y_obs)\n",
      "plot(x_obs, best_y)"
     ],
     "language": "python",
     "metadata": {},
     "outputs": [
      {
       "metadata": {},
       "output_type": "pyout",
       "prompt_number": 118,
       "text": [
        "[<matplotlib.lines.Line2D at 0x4060350>]"
       ]
      },
      {
       "metadata": {},
       "output_type": "display_data",
       "png": "[encoded data removed]",
       "text": [
        "<matplotlib.figure.Figure at 0x4060890>"
       ]
      }
     ],
     "prompt_number": 118
    },
    {
     "cell_type": "code",
     "collapsed": false,
     "input": [
      " a_aleat_2=np.random.normal(a[i],0.1)\n",
      "        b_aleat_2=np.random.normal(b[i],0.1)\n",
      "        c_aleat_2=np.random.normal(c[i],0.1)\n",
      "        \n",
      "        y_base_2= modelo(x_obs,a[i],b[i],c[i])\n",
      "        y_aleat_2=modelo(x_obs,a_aleat_2,b_aleat_2,c_aleat_2)\n",
      "        \n",
      "        indice_2=chi(y_base_2,y_obs)/chi(y_aleat_2,y_obs)\n",
      "        \n",
      "        if((indice_2>=1.0) and (indice_2<=indice)):\n",
      "            a=append(a,a_aleat_2)\n",
      "            b=append(b,b_aleat_2)\n",
      "            c=append(c,c_aleat_2)\n",
      "            \n",
      "        else:\n",
      "            a=append(a,a_aleat)\n",
      "            b=append(b,b_aleat)\n",
      "            c=append(c,c_aleat)"
     ],
     "language": "python",
     "metadata": {},
     "outputs": []
    }
   ],
   "metadata": {}
  }
 ]
}