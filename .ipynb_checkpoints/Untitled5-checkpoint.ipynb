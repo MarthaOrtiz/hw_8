{
 "metadata": {
  "name": ""
 },
 "nbformat": 3,
 "nbformat_minor": 0,
 "worksheets": [
  {
   "cells": [
    {
     "cell_type": "code",
     "collapsed": false,
     "input": [
      "%pylab inline"
     ],
     "language": "python",
     "metadata": {},
     "outputs": [
      {
       "output_type": "stream",
       "stream": "stdout",
       "text": [
        "Populating the interactive namespace from numpy and matplotlib\n"
       ]
      }
     ],
     "prompt_number": 19
    },
    {
     "cell_type": "code",
     "collapsed": false,
     "input": [
      "datos=loadtxt('data_hw_8.dat')"
     ],
     "language": "python",
     "metadata": {},
     "outputs": [],
     "prompt_number": 20
    },
    {
     "cell_type": "code",
     "collapsed": false,
     "input": [
      "t = datos[:,0]\n",
      "P_med = datos[:,1]"
     ],
     "language": "python",
     "metadata": {},
     "outputs": [],
     "prompt_number": 29
    },
    {
     "cell_type": "code",
     "collapsed": false,
     "input": [
      "plot (t,P_med,'ko')"
     ],
     "language": "python",
     "metadata": {},
     "outputs": [
      {
       "metadata": {},
       "output_type": "pyout",
       "prompt_number": 22,
       "text": [
        "[<matplotlib.lines.Line2D at 0x10511fa90>]"
       ]
      },
      {
       "metadata": {},
       "output_type": "display_data",
       "png": "[encoded data removed]",
       "text": [
        "<matplotlib.figure.Figure at 0x104f7efd0>"
       ]
      }
     ],
     "prompt_number": 22
    },
    {
     "cell_type": "code",
     "collapsed": false,
     "input": [
      "#Solving the differential eq.\n",
      "def P_sol(alpha, betha, Km1, Km2, So):\n",
      "    P = zeros(len(t))\n",
      "    P[0] = 12\n",
      "    for i in range(len(t) - 1):\n",
      "        prima = alpha*(So - P[i])/(Km1 + So - P[i]) - betha*P[i]/(Km2 + P[i])\n",
      "        P[i+1] = P[i] + (t[i+1] - t[i])*prima\n",
      "    return P"
     ],
     "language": "python",
     "metadata": {},
     "outputs": [],
     "prompt_number": 23
    },
    {
     "cell_type": "code",
     "collapsed": false,
     "input": [
      "P = P_sol(1.0,1.0,10.0,10.0,0.0)\n",
      "plot(t,P)"
     ],
     "language": "python",
     "metadata": {},
     "outputs": [
      {
       "metadata": {},
       "output_type": "pyout",
       "prompt_number": 24,
       "text": [
        "[<matplotlib.lines.Line2D at 0x10540b990>]"
       ]
      },
      {
       "metadata": {},
       "output_type": "display_data",
       "png": "[encoded data removed]",
       "text": [
        "<matplotlib.figure.Figure at 0x10512e2d0>"
       ]
      }
     ],
     "prompt_number": 24
    },
    {
     "cell_type": "code",
     "collapsed": false,
     "input": [
      "def chi2(P):\n",
      "    suma = 0\n",
      "    for i in range(len(P)):\n",
      "        suma = suma + (P[i] - P_med[i])**2\n",
      "    chi2 = suma / 19\n",
      "    return chi2"
     ],
     "language": "python",
     "metadata": {},
     "outputs": [],
     "prompt_number": 30
    },
    {
     "cell_type": "code",
     "collapsed": false,
     "input": [
      "alpha=empty((0))\n",
      "betha=empty((0))\n",
      "Km1=empty((0))\n",
      "Km2=empty((0))\n",
      "So=empty((0))"
     ],
     "language": "python",
     "metadata": {},
     "outputs": [],
     "prompt_number": 25
    },
    {
     "cell_type": "code",
     "collapsed": false,
     "input": [
      "#inicialization\n",
      "alpha_0 = 1.0 + (10.0 - 1.0)*random.random()\n",
      "betha_0 = 1.0 + (10.0 - 1.0)*random.random()\n",
      "Km1_0 = 1.0 + (10.0 - 1.0)*random.random()\n",
      "Km2_0 = 1.0 + (10.0 - 1.0)*random.random()\n",
      "So_0 = 1.0 + (10.0 - 1.0)*random.random()"
     ],
     "language": "python",
     "metadata": {},
     "outputs": [],
     "prompt_number": 26
    },
    {
     "cell_type": "code",
     "collapsed": false,
     "input": [
      "alpha=append(alpha,alpha_0)\n",
      "betha=append(betha,betha_0)\n",
      "Km1=append(Km1,Km1_0)\n",
      "Km2=append(Km2,Km2_0)\n",
      "So=append(So,So_0)"
     ],
     "language": "python",
     "metadata": {},
     "outputs": [],
     "prompt_number": 27
    },
    {
     "cell_type": "code",
     "collapsed": false,
     "input": [],
     "language": "python",
     "metadata": {},
     "outputs": []
    }
   ],
   "metadata": {}
  }
 ]
}