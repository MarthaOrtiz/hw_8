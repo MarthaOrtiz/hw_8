{
 "metadata": {
  "name": ""
 },
 "nbformat": 3,
 "nbformat_minor": 0,
 "worksheets": [
  {
   "cells": [
    {
     "cell_type": "code",
     "collapsed": false,
     "input": [
      "%pylab inline\n",
      "import numpy as np\n",
      "\n",
      "datos=loadtxt('data_hw_8.dat')\n",
      "\n",
      "t = datos[3:,0]\n",
      "P_med = datos[3:,1]\n",
      "plot(t,P_med,'ko')\n",
      "show()\n",
      "\n",
      "#Solving the differential eq.\n",
      "def P_sol(alpha, betha, Km1, Km2, So):\n",
      "    P = zeros(len(t))\n",
      "    P[0] = 34\n",
      "    for i in range(len(t) - 1):\n",
      "        prima = alpha*(So - P[i])/(Km1 + So - P[i]) - betha*P[i]/(Km2 + P[i])\n",
      "        P[i+1] = P[i] + (t[i+1] - t[i])*prima\n",
      "    return P\n",
      "\n",
      "P = P_sol(1.0,1.0,-10.0,-10.0,0.0)\n",
      "plot(t,P)\n",
      "show()"
     ],
     "language": "python",
     "metadata": {},
     "outputs": [
      {
       "output_type": "stream",
       "stream": "stdout",
       "text": [
        "Populating the interactive namespace from numpy and matplotlib\n"
       ]
      },
      {
       "metadata": {},
       "output_type": "display_data",
       "png": "[encoded data removed]",
       "text": [
        "<matplotlib.figure.Figure at 0x102775850>"
       ]
      },
      {
       "metadata": {},
       "output_type": "display_data",
       "png": "[encoded data removed]",
       "text": [
        "<matplotlib.figure.Figure at 0x105425050>"
       ]
      }
     ],
     "prompt_number": 13
    },
    {
     "cell_type": "code",
     "collapsed": true,
     "input": [
      "def chi2(P):\n",
      "    suma = 0\n",
      "    for i in range(len(P)):\n",
      "        suma = suma + (P[i] - P_med[i])**2\n",
      "    return suma / 16\n",
      "        \n",
      "alpha=empty((0))\n",
      "betha=empty((0))\n",
      "Km1=empty((0))\n",
      "Km2=empty((0))\n",
      "So=empty((0))\n",
      "\n",
      "#inicialization\n",
      "alpha_0 = 5.0 + (10.0 - 5.0)*random.random()\n",
      "betha_0 = 20.0 + (25.0 - 20.0)*random.random()\n",
      "Km1_0 = -20.0 + (-15.0 + 20.0)*random.random()\n",
      "Km2_0 = 70.0+ (75.0 - 70.0)*random.random()\n",
      "So_0 = -10.0 + (-5.0 + 10.0)*random.random()\n",
      "\n",
      "alpha=append(alpha,alpha_0)\n",
      "betha=append(betha,betha_0)\n",
      "Km1=append(Km1,Km1_0)\n",
      "Km2=append(Km2,Km2_0)\n",
      "So=append(So,So_0)\n",
      "    "
     ],
     "language": "python",
     "metadata": {},
     "outputs": [],
     "prompt_number": 29
    },
    {
     "cell_type": "code",
     "collapsed": true,
     "input": [
      "#iterations\n",
      "n_iter= 30000\n",
      "\n",
      "for i in range(n_iter):\n",
      "    alpha_i=np.random.normal(alpha[i],0.1)\n",
      "    betha_i=np.random.normal(betha[i],0.1)\n",
      "    Km1_i=np.random.normal(Km1[i],0.1)\n",
      "    Km2_i=np.random.normal(Km2[i],0.1)\n",
      "    So_i=np.random.normal(So[i],0.1)\n",
      "    \n",
      "    P_anterior = P_sol(alpha[i], betha[i], Km1[i], Km2[i], So[i])\n",
      "    P_i = P_sol(alpha_i, betha_i, Km1_i, Km2_i, So_i)\n",
      "    \n",
      "    #likelihood relation\n",
      "    L = exp(-chi2(P_i)) / exp(-chi2(P_anterior))\n",
      "    \n",
      "    #Comparing\n",
      "    if (L >= 1.0):\n",
      "        alpha=append(alpha,alpha_i)\n",
      "        betha=append(betha,betha_i)\n",
      "        Km1=append(Km1,Km1_i)\n",
      "        Km2=append(Km2,Km2_i)\n",
      "        So=append(So,So_i)\n",
      "        \n",
      "    else:\n",
      "        \n",
      "        b = random.random()\n",
      "    \n",
      "    #Comparing\n",
      "        if (b <= L):\n",
      "            alpha=append(alpha,alpha_i)\n",
      "            betha=append(betha,betha_i)\n",
      "            Km1=append(Km1,Km1_i)\n",
      "            Km2=append(Km2,Km2_i)\n",
      "            So=append(So,So_i)\n",
      "            \n",
      "        else:\n",
      "            alpha=append(alpha,alpha[i])\n",
      "            betha=append(betha,betha[i])\n",
      "            Km1=append(Km1,Km1[i])\n",
      "            Km2=append(Km2,Km2[i])\n",
      "            So=append(So,So[i])"
     ],
     "language": "python",
     "metadata": {},
     "outputs": [],
     "prompt_number": 30
    },
    {
     "cell_type": "code",
     "collapsed": false,
     "input": [
      "plot(t,P_sol(average(alpha), average(betha), average(Km1), average(Km2), average(So)))\n",
      "plot(t,P_med,'ko')"
     ],
     "language": "python",
     "metadata": {},
     "outputs": [
      {
       "metadata": {},
       "output_type": "pyout",
       "prompt_number": 31,
       "text": [
        "[<matplotlib.lines.Line2D at 0x10538f0d0>]"
       ]
      },
      {
       "metadata": {},
       "output_type": "display_data",
       "png": "[encoded data removed]",
       "text": [
        "<matplotlib.figure.Figure at 0x10538fd10>"
       ]
      }
     ],
     "prompt_number": 31
    },
    {
     "cell_type": "code",
     "collapsed": true,
     "input": [
      "print average(alpha), average(betha), average(Km1), average(Km2), average(So)\n",
      "print chi2(P_sol(average(alpha), average(betha), average(Km1), average(Km2), average(So)))\n",
      "print np.std(alpha),np.std(betha),np.std(Km1),np.std(Km2),np.std(So)"
     ],
     "language": "python",
     "metadata": {},
     "outputs": [
      {
       "output_type": "stream",
       "stream": "stdout",
       "text": [
        "8.2830269235 22.2965341977 -28.0031461324 70.568041374 -15.7763127327\n",
        "0.510339144777\n",
        "2.41117246134 4.20416454861 3.3808528352 6.00537322731 5.19325938181\n"
       ]
      }
     ],
     "prompt_number": 32
    },
    {
     "cell_type": "code",
     "collapsed": false,
     "input": [],
     "language": "python",
     "metadata": {},
     "outputs": []
    }
   ],
   "metadata": {}
  }
 ]
}