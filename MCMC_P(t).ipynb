{
 "metadata": {
  "name": "MCMC_P(t)"
 }, 
 "nbformat": 2, 
 "worksheets": [
  {
   "cells": [
    {
     "cell_type": "code", 
     "collapsed": false, 
     "input": [
      "%pylab inline", 
      "", 
      "datos=loadtxt('data_hw_8.dat')", 
      "", 
      "plot (datos[:,0],datos[:,1],'ko')", 
      "", 
      "t = datos[:,0]", 
      "P_med = datos[:,1]", 
      "show()", 
      "", 
      "#Solving the differential eq.", 
      "def P_sol(alpha, betha, Km1, Km2, So):", 
      "    P = zeros(len(t))", 
      "    P[0] = 12", 
      "    for i in range(len(t) - 1):", 
      "        prima = alpha*(So - P[i])/(Km1 + So - P[i]) - betha*P[i]/(Km2 + P[i])", 
      "        P[i+1] = P[i] + (t[i+1] - t[i])*prima", 
      "    return P", 
      "P = P_sol(1.0,1.0,10.0,10.0,0.0)", 
      "plot(t,P)", 
      "show()"
     ], 
     "language": "python", 
     "outputs": [
      {
       "output_type": "stream", 
       "stream": "stdout", 
       "text": [
        "", 
        "Welcome to pylab, a matplotlib-based Python environment [backend: module://IPython.zmq.pylab.backend_inline].", 
        "For more information, type 'help(pylab)'."
       ]
      }, 
      {
       "output_type": "display_data", 
       "png": "[encoded data removed]"
      }, 
      {
       "output_type": "display_data", 
       "png": "[encoded data removed]"
      }
     ], 
     "prompt_number": 82
    }, 
    {
     "cell_type": "code", 
     "collapsed": true, 
     "input": [
      "def chi2(P):", 
      "    suma = 0", 
      "    for i in range(len(P)):", 
      "        suma = suma + (P[i] - P_med[i])**2", 
      "    return suma", 
      "        ", 
      "alpha=empty((0))", 
      "betha=empty((0))", 
      "Km1=empty((0))", 
      "Km2=empty((0))", 
      "So=empty((0))", 
      "", 
      "#inicialization", 
      "alpha_0 = 10.0*random.random()", 
      "betha_0 = 10.0*random.random()", 
      "Km1_0 = 10.0*random.random()", 
      "Km2_0 = 10.0*random.random()", 
      "So_0 = 10.0*random.random()", 
      "", 
      "alpha=append(alpha,alpha_0)", 
      "betha=append(betha,betha_0)", 
      "Km1=append(Km1,Km1_0)", 
      "Km2=append(Km2,Km2_0)", 
      "So=append(So,So_0)", 
      "    "
     ], 
     "language": "python", 
     "outputs": [], 
     "prompt_number": 83
    }, 
    {
     "cell_type": "code", 
     "collapsed": false, 
     "input": [
      "#iterations", 
      "n_iter= 10", 
      "", 
      "for i in range (n_iter):", 
      "    alpha_i=np.random.normal(alpha[i],10.0*0.1)", 
      "    betha_i=np.random.normal(betha[i],10.0*0.1)", 
      "    Km1_i=np.random.normal(Km1[i],10.0*0.1)", 
      "    Km2_i=np.random.normal(Km2[i],10.0*0.1)", 
      "    So_i=np.random.normal(So[i],10.0*0.1)", 
      "    ", 
      "    P_med = P_sol(alpha[i], betha[i], Km1[i], Km2[i], So[i])", 
      "    P_i = P_sol(alpha_i, betha_i, Km1_i, Km2_i, So_i)", 
      "    ", 
      "    #likelihood relation", 
      "    L = chi2(P_i) - chi2(P_med)", 
      "    ", 
      "    #Comparing", 
      "    if (L >= 1.0):", 
      "        alpha=append(alpha,alpha_i)", 
      "        betha=append(betha,betha_i)", 
      "        Km1=append(Km1,Km1_i)", 
      "        Km2=append(Km2,Km2_i)", 
      "        So=append(So,So_i)", 
      "        ", 
      "    else:", 
      "        alpha_i2=np.random.normal(alpha[i],10.0*0.1)", 
      "        betha_i2=np.random.normal(betha[i],10.0*0.1)", 
      "        Km1_i2=np.random.normal(Km1[i],10.0*0.1)", 
      "        Km2_i2=np.random.normal(Km2[i],10.0*0.1)", 
      "        So_i2=np.random.normal(So[i],10.0*0.1)", 
      "    ", 
      "        P_med2 = P_sol(alpha[i], betha[i], Km1[i], Km2[i], So[i])", 
      "        P_i2 = P_sol(alpha_i, betha_i, Km1_i, Km2_i, So_i)", 
      "    ", 
      "    #likelihood relation", 
      "        L2 = chi2(P_i2) - chi2(P_med2)", 
      "    ", 
      "    #Comparing", 
      "        if (L2 >= 1.0)and(L2>=L):", 
      "            alpha=append(alpha,alpha_i2)", 
      "            betha=append(betha,betha_i2)", 
      "            Km1=append(Km1,Km1_i2)", 
      "            Km2=append(Km2,Km2_i2)", 
      "            So=append(So,So_i2)", 
      "            ", 
      "        else:", 
      "            alpha=append(alpha,alpha_i)", 
      "            betha=append(betha,betha_i)", 
      "            Km1=append(Km1,Km1_i)", 
      "            Km2=append(Km2,Km2_i)", 
      "        So=append(So,So_i)"
     ], 
     "language": "python", 
     "outputs": [], 
     "prompt_number": 84
    }, 
    {
     "cell_type": "code", 
     "collapsed": false, 
     "input": [
      "plot(t,P_sol(average(alpha), average(betha), average(Km1), average(Km2), average(So)))", 
      "plot (datos[:,0],datos[:,1],'ko')"
     ], 
     "language": "python", 
     "outputs": [
      {
       "output_type": "pyout", 
       "prompt_number": 85, 
       "text": [
        "[<matplotlib.lines.Line2D at 0xb4bb9cc>]"
       ]
      }, 
      {
       "output_type": "display_data", 
       "png": "[encoded data removed]"
      }
     ], 
     "prompt_number": 85
    }, 
    {
     "cell_type": "code", 
     "collapsed": false, 
     "input": [], 
     "language": "python", 
     "outputs": [], 
     "prompt_number": 47
    }, 
    {
     "cell_type": "code", 
     "collapsed": false, 
     "input": [], 
     "language": "python", 
     "outputs": [], 
     "prompt_number": 47
    }, 
    {
     "cell_type": "code", 
     "collapsed": true, 
     "input": [], 
     "language": "python", 
     "outputs": []
    }
   ]
  }
 ]
}